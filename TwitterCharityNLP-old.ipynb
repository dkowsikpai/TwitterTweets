{
 "cells": [
  {
   "cell_type": "markdown",
   "metadata": {},
   "source": [
    "# Twitter Charity Related Text Extraction"
   ]
  },
  {
   "cell_type": "markdown",
   "metadata": {},
   "source": [
    "## Installing NLTK Library"
   ]
  },
  {
   "cell_type": "code",
   "execution_count": 36,
   "metadata": {
    "scrolled": true
   },
   "outputs": [
    {
     "name": "stdout",
     "output_type": "stream",
     "text": [
      "Requirement already satisfied: nltk in /home/hp/ML/env/lib/python3.7/site-packages\n",
      "Requirement already satisfied: tqdm in /home/hp/ML/env/lib/python3.7/site-packages (from nltk)\n",
      "Requirement already satisfied: click in /home/hp/ML/env/lib/python3.7/site-packages (from nltk)\n",
      "Requirement already satisfied: joblib in /home/hp/ML/env/lib/python3.7/site-packages (from nltk)\n",
      "Requirement already satisfied: regex in /home/hp/ML/env/lib/python3.7/site-packages (from nltk)\n",
      "Note: you may need to restart the kernel to use updated packages.\n"
     ]
    }
   ],
   "source": [
    "%pip install nltk"
   ]
  },
  {
   "cell_type": "markdown",
   "metadata": {},
   "source": [
    "Import required Libraries and Loading data to pandas dataframe"
   ]
  },
  {
   "cell_type": "code",
   "execution_count": 37,
   "metadata": {},
   "outputs": [],
   "source": [
    "import pandas as pd"
   ]
  },
  {
   "cell_type": "code",
   "execution_count": 38,
   "metadata": {},
   "outputs": [
    {
     "data": {
      "text/html": [
       "<div>\n",
       "<style scoped>\n",
       "    .dataframe tbody tr th:only-of-type {\n",
       "        vertical-align: middle;\n",
       "    }\n",
       "\n",
       "    .dataframe tbody tr th {\n",
       "        vertical-align: top;\n",
       "    }\n",
       "\n",
       "    .dataframe thead th {\n",
       "        text-align: right;\n",
       "    }\n",
       "</style>\n",
       "<table border=\"1\" class=\"dataframe\">\n",
       "  <thead>\n",
       "    <tr style=\"text-align: right;\">\n",
       "      <th></th>\n",
       "      <th>id_str</th>\n",
       "      <th>from_user</th>\n",
       "      <th>text</th>\n",
       "      <th>created_at</th>\n",
       "      <th>time</th>\n",
       "      <th>geo_coordinates</th>\n",
       "      <th>user_lang</th>\n",
       "      <th>in_reply_to_user_id_str</th>\n",
       "      <th>in_reply_to_screen_name</th>\n",
       "      <th>from_user_id_str</th>\n",
       "      <th>in_reply_to_status_id_str</th>\n",
       "      <th>source</th>\n",
       "      <th>profile_image_url</th>\n",
       "      <th>user_followers_count</th>\n",
       "      <th>user_friends_count</th>\n",
       "      <th>user_location</th>\n",
       "      <th>status_url</th>\n",
       "      <th>entities_str</th>\n",
       "    </tr>\n",
       "  </thead>\n",
       "  <tbody>\n",
       "    <tr>\n",
       "      <td>0</td>\n",
       "      <td>1235091941731098625</td>\n",
       "      <td>fabioruivo</td>\n",
       "      <td>.@CBF_Futebol @RedeGlobo @Ambev @CocaCola @ita...</td>\n",
       "      <td>Wed Mar 04 06:37:20 +0000 2020</td>\n",
       "      <td>04/03/2020 06:37:20</td>\n",
       "      <td>NaN</td>\n",
       "      <td>NaN</td>\n",
       "      <td>NaN</td>\n",
       "      <td>NaN</td>\n",
       "      <td>17015247</td>\n",
       "      <td>NaN</td>\n",
       "      <td>&lt;a href=\"http://twitter.com/download/iphone\" r...</td>\n",
       "      <td>http://pbs.twimg.com/profile_images/1164275859...</td>\n",
       "      <td>793</td>\n",
       "      <td>282</td>\n",
       "      <td>Pale Blue Dot</td>\n",
       "      <td>http://twitter.com/fabioruivo/statuses/1235091...</td>\n",
       "      <td>{\"hashtags\":[{\"text\":\"WorldCup2014\",\"indices\":...</td>\n",
       "    </tr>\n",
       "    <tr>\n",
       "      <td>1</td>\n",
       "      <td>1235071327775539200</td>\n",
       "      <td>jaimevargasnae</td>\n",
       "      <td>RT @confeniae1: En las profundidades de la sel...</td>\n",
       "      <td>Wed Mar 04 05:15:25 +0000 2020</td>\n",
       "      <td>04/03/2020 05:15:25</td>\n",
       "      <td>NaN</td>\n",
       "      <td>NaN</td>\n",
       "      <td>NaN</td>\n",
       "      <td>NaN</td>\n",
       "      <td>890896112642646016</td>\n",
       "      <td>NaN</td>\n",
       "      <td>&lt;a href=\"http://twitter.com/download/iphone\" r...</td>\n",
       "      <td>http://pbs.twimg.com/profile_images/9135326966...</td>\n",
       "      <td>37509</td>\n",
       "      <td>192</td>\n",
       "      <td>Morona Santiago, Ecuador</td>\n",
       "      <td>http://twitter.com/jaimevargasnae/statuses/123...</td>\n",
       "      <td>{\"hashtags\":[],\"symbols\":[],\"user_mentions\":[{...</td>\n",
       "    </tr>\n",
       "    <tr>\n",
       "      <td>2</td>\n",
       "      <td>1234968672856428544</td>\n",
       "      <td>WaoResistencia</td>\n",
       "      <td>RT @confeniae1: En las profundidades de la sel...</td>\n",
       "      <td>Tue Mar 03 22:27:30 +0000 2020</td>\n",
       "      <td>03/03/2020 22:27:30</td>\n",
       "      <td>NaN</td>\n",
       "      <td>NaN</td>\n",
       "      <td>NaN</td>\n",
       "      <td>NaN</td>\n",
       "      <td>1100052094365720576</td>\n",
       "      <td>NaN</td>\n",
       "      <td>&lt;a href=\"https://mobile.twitter.com\" rel=\"nofo...</td>\n",
       "      <td>http://pbs.twimg.com/profile_images/1100056401...</td>\n",
       "      <td>3237</td>\n",
       "      <td>865</td>\n",
       "      <td>NaN</td>\n",
       "      <td>http://twitter.com/WaoResistencia/statuses/123...</td>\n",
       "      <td>{\"hashtags\":[],\"symbols\":[],\"user_mentions\":[{...</td>\n",
       "    </tr>\n",
       "    <tr>\n",
       "      <td>3</td>\n",
       "      <td>1234963918734417928</td>\n",
       "      <td>confeniae1</td>\n",
       "      <td>En las profundidades de la selva amazónica hab...</td>\n",
       "      <td>Tue Mar 03 22:08:37 +0000 2020</td>\n",
       "      <td>03/03/2020 22:08:37</td>\n",
       "      <td>NaN</td>\n",
       "      <td>NaN</td>\n",
       "      <td>1.321463e+09</td>\n",
       "      <td>confeniae1</td>\n",
       "      <td>1321462820</td>\n",
       "      <td>1.234964e+18</td>\n",
       "      <td>&lt;a href=\"http://twitter.com/download/iphone\" r...</td>\n",
       "      <td>http://pbs.twimg.com/profile_images/9964613968...</td>\n",
       "      <td>33941</td>\n",
       "      <td>991</td>\n",
       "      <td>Amazonía Ecuatoriana</td>\n",
       "      <td>http://twitter.com/confeniae1/statuses/1234963...</td>\n",
       "      <td>{\"hashtags\":[{\"text\":\"AmazoníaSagrada\",\"indice...</td>\n",
       "    </tr>\n",
       "    <tr>\n",
       "      <td>4</td>\n",
       "      <td>1234963918734417928</td>\n",
       "      <td>confeniae1</td>\n",
       "      <td>En las profundidades de la selva amazónica hab...</td>\n",
       "      <td>Tue Mar 03 22:08:37 +0000 2020</td>\n",
       "      <td>03/03/2020 22:08:37</td>\n",
       "      <td>NaN</td>\n",
       "      <td>NaN</td>\n",
       "      <td>1.321463e+09</td>\n",
       "      <td>confeniae1</td>\n",
       "      <td>1321462820</td>\n",
       "      <td>1.234964e+18</td>\n",
       "      <td>&lt;a href=\"http://twitter.com/download/iphone\" r...</td>\n",
       "      <td>http://pbs.twimg.com/profile_images/9964613968...</td>\n",
       "      <td>33941</td>\n",
       "      <td>991</td>\n",
       "      <td>Amazonía Ecuatoriana</td>\n",
       "      <td>http://twitter.com/confeniae1/statuses/1234963...</td>\n",
       "      <td>{\"hashtags\":[{\"text\":\"AmazoníaSagrada\",\"indice...</td>\n",
       "    </tr>\n",
       "  </tbody>\n",
       "</table>\n",
       "</div>"
      ],
      "text/plain": [
       "                id_str       from_user  \\\n",
       "0  1235091941731098625      fabioruivo   \n",
       "1  1235071327775539200  jaimevargasnae   \n",
       "2  1234968672856428544  WaoResistencia   \n",
       "3  1234963918734417928      confeniae1   \n",
       "4  1234963918734417928      confeniae1   \n",
       "\n",
       "                                                text  \\\n",
       "0  .@CBF_Futebol @RedeGlobo @Ambev @CocaCola @ita...   \n",
       "1  RT @confeniae1: En las profundidades de la sel...   \n",
       "2  RT @confeniae1: En las profundidades de la sel...   \n",
       "3  En las profundidades de la selva amazónica hab...   \n",
       "4  En las profundidades de la selva amazónica hab...   \n",
       "\n",
       "                       created_at                 time  geo_coordinates  \\\n",
       "0  Wed Mar 04 06:37:20 +0000 2020  04/03/2020 06:37:20              NaN   \n",
       "1  Wed Mar 04 05:15:25 +0000 2020  04/03/2020 05:15:25              NaN   \n",
       "2  Tue Mar 03 22:27:30 +0000 2020  03/03/2020 22:27:30              NaN   \n",
       "3  Tue Mar 03 22:08:37 +0000 2020  03/03/2020 22:08:37              NaN   \n",
       "4  Tue Mar 03 22:08:37 +0000 2020  03/03/2020 22:08:37              NaN   \n",
       "\n",
       "   user_lang  in_reply_to_user_id_str in_reply_to_screen_name  \\\n",
       "0        NaN                      NaN                     NaN   \n",
       "1        NaN                      NaN                     NaN   \n",
       "2        NaN                      NaN                     NaN   \n",
       "3        NaN             1.321463e+09              confeniae1   \n",
       "4        NaN             1.321463e+09              confeniae1   \n",
       "\n",
       "      from_user_id_str  in_reply_to_status_id_str  \\\n",
       "0             17015247                        NaN   \n",
       "1   890896112642646016                        NaN   \n",
       "2  1100052094365720576                        NaN   \n",
       "3           1321462820               1.234964e+18   \n",
       "4           1321462820               1.234964e+18   \n",
       "\n",
       "                                              source  \\\n",
       "0  <a href=\"http://twitter.com/download/iphone\" r...   \n",
       "1  <a href=\"http://twitter.com/download/iphone\" r...   \n",
       "2  <a href=\"https://mobile.twitter.com\" rel=\"nofo...   \n",
       "3  <a href=\"http://twitter.com/download/iphone\" r...   \n",
       "4  <a href=\"http://twitter.com/download/iphone\" r...   \n",
       "\n",
       "                                   profile_image_url  user_followers_count  \\\n",
       "0  http://pbs.twimg.com/profile_images/1164275859...                   793   \n",
       "1  http://pbs.twimg.com/profile_images/9135326966...                 37509   \n",
       "2  http://pbs.twimg.com/profile_images/1100056401...                  3237   \n",
       "3  http://pbs.twimg.com/profile_images/9964613968...                 33941   \n",
       "4  http://pbs.twimg.com/profile_images/9964613968...                 33941   \n",
       "\n",
       "   user_friends_count             user_location  \\\n",
       "0                 282             Pale Blue Dot   \n",
       "1                 192  Morona Santiago, Ecuador   \n",
       "2                 865                       NaN   \n",
       "3                 991      Amazonía Ecuatoriana   \n",
       "4                 991      Amazonía Ecuatoriana   \n",
       "\n",
       "                                          status_url  \\\n",
       "0  http://twitter.com/fabioruivo/statuses/1235091...   \n",
       "1  http://twitter.com/jaimevargasnae/statuses/123...   \n",
       "2  http://twitter.com/WaoResistencia/statuses/123...   \n",
       "3  http://twitter.com/confeniae1/statuses/1234963...   \n",
       "4  http://twitter.com/confeniae1/statuses/1234963...   \n",
       "\n",
       "                                        entities_str  \n",
       "0  {\"hashtags\":[{\"text\":\"WorldCup2014\",\"indices\":...  \n",
       "1  {\"hashtags\":[],\"symbols\":[],\"user_mentions\":[{...  \n",
       "2  {\"hashtags\":[],\"symbols\":[],\"user_mentions\":[{...  \n",
       "3  {\"hashtags\":[{\"text\":\"AmazoníaSagrada\",\"indice...  \n",
       "4  {\"hashtags\":[{\"text\":\"AmazoníaSagrada\",\"indice...  "
      ]
     },
     "execution_count": 38,
     "metadata": {},
     "output_type": "execute_result"
    }
   ],
   "source": [
    "amz = pd.read_csv(\"./Data/actforamazon.csv\")\n",
    "amz.head()"
   ]
  },
  {
   "cell_type": "code",
   "execution_count": 39,
   "metadata": {},
   "outputs": [
    {
     "data": {
      "text/plain": [
       "(5, 18)"
      ]
     },
     "execution_count": 39,
     "metadata": {},
     "output_type": "execute_result"
    }
   ],
   "source": [
    "amz.shape"
   ]
  },
  {
   "cell_type": "code",
   "execution_count": 40,
   "metadata": {},
   "outputs": [
    {
     "data": {
      "text/plain": [
       "Index(['id_str', 'from_user', 'text', 'created_at', 'time', 'geo_coordinates',\n",
       "       'user_lang', 'in_reply_to_user_id_str', 'in_reply_to_screen_name',\n",
       "       'from_user_id_str', 'in_reply_to_status_id_str', 'source',\n",
       "       'profile_image_url', 'user_followers_count', 'user_friends_count',\n",
       "       'user_location', 'status_url', 'entities_str'],\n",
       "      dtype='object')"
      ]
     },
     "execution_count": 40,
     "metadata": {},
     "output_type": "execute_result"
    }
   ],
   "source": [
    "amz.columns"
   ]
  },
  {
   "cell_type": "code",
   "execution_count": 41,
   "metadata": {},
   "outputs": [
    {
     "data": {
      "text/plain": [
       "'RT @confeniae1: En las profundidades de la selva amazónica habita 1/3 de las especies que pueblan este planeta y se calcula que el 20% del agua potable disponible en el planeta se genera en este vasto ecosistema lleno de vida.\\n\\n#AmazoníaSagrada #SacredHeadwaters #KeepItUnderground \\n#ActForAmazon https://t.co/SGahx3e1q5'"
      ]
     },
     "execution_count": 41,
     "metadata": {},
     "output_type": "execute_result"
    }
   ],
   "source": [
    "amz.text[1]"
   ]
  },
  {
   "cell_type": "code",
   "execution_count": 42,
   "metadata": {},
   "outputs": [
    {
     "data": {
      "text/html": [
       "<div>\n",
       "<style scoped>\n",
       "    .dataframe tbody tr th:only-of-type {\n",
       "        vertical-align: middle;\n",
       "    }\n",
       "\n",
       "    .dataframe tbody tr th {\n",
       "        vertical-align: top;\n",
       "    }\n",
       "\n",
       "    .dataframe thead th {\n",
       "        text-align: right;\n",
       "    }\n",
       "</style>\n",
       "<table border=\"1\" class=\"dataframe\">\n",
       "  <thead>\n",
       "    <tr style=\"text-align: right;\">\n",
       "      <th></th>\n",
       "      <th>id_str</th>\n",
       "      <th>from_user</th>\n",
       "      <th>text</th>\n",
       "      <th>created_at</th>\n",
       "      <th>time</th>\n",
       "      <th>geo_coordinates</th>\n",
       "      <th>user_lang</th>\n",
       "      <th>in_reply_to_user_id_str</th>\n",
       "      <th>in_reply_to_screen_name</th>\n",
       "      <th>from_user_id_str</th>\n",
       "      <th>in_reply_to_status_id_str</th>\n",
       "      <th>source</th>\n",
       "      <th>profile_image_url</th>\n",
       "      <th>user_followers_count</th>\n",
       "      <th>user_friends_count</th>\n",
       "      <th>user_location</th>\n",
       "      <th>status_url</th>\n",
       "      <th>entities_str</th>\n",
       "    </tr>\n",
       "  </thead>\n",
       "  <tbody>\n",
       "    <tr>\n",
       "      <td>0</td>\n",
       "      <td>1235716715415105536</td>\n",
       "      <td>Australia_21</td>\n",
       "      <td>Have you thought about how we’ll meet the 21st...</td>\n",
       "      <td>Thu Mar 05 23:59:58 +0000 2020</td>\n",
       "      <td>05/03/2020 23:59:58</td>\n",
       "      <td>NaN</td>\n",
       "      <td>NaN</td>\n",
       "      <td>NaN</td>\n",
       "      <td>NaN</td>\n",
       "      <td>186716353</td>\n",
       "      <td>NaN</td>\n",
       "      <td>&lt;a href=\"https://buffer.com\" rel=\"nofollow\"&gt;Bu...</td>\n",
       "      <td>http://pbs.twimg.com/profile_images/7631995434...</td>\n",
       "      <td>2612.0</td>\n",
       "      <td>1959.0</td>\n",
       "      <td>Canberra</td>\n",
       "      <td>http://twitter.com/Australia_21/statuses/12357...</td>\n",
       "      <td>{\"hashtags\":[{\"text\":\"ClimateChange\",\"indices\"...</td>\n",
       "    </tr>\n",
       "    <tr>\n",
       "      <td>1</td>\n",
       "      <td>1235716674420006912</td>\n",
       "      <td>Shirley08391760</td>\n",
       "      <td>RT @The_taX_Files: Not only did #ScottyFomMark...</td>\n",
       "      <td>Thu Mar 05 23:59:48 +0000 2020</td>\n",
       "      <td>05/03/2020 23:59:48</td>\n",
       "      <td>NaN</td>\n",
       "      <td>NaN</td>\n",
       "      <td>NaN</td>\n",
       "      <td>NaN</td>\n",
       "      <td>1122054681180565505</td>\n",
       "      <td>NaN</td>\n",
       "      <td>&lt;a href=\"https://mobile.twitter.com\" rel=\"nofo...</td>\n",
       "      <td>http://pbs.twimg.com/profile_images/1134742705...</td>\n",
       "      <td>261.0</td>\n",
       "      <td>256.0</td>\n",
       "      <td>Jindabyne, New South Wales</td>\n",
       "      <td>http://twitter.com/Shirley08391760/statuses/12...</td>\n",
       "      <td>{\"hashtags\":[{\"text\":\"ScottyFomMarketing\",\"ind...</td>\n",
       "    </tr>\n",
       "    <tr>\n",
       "      <td>2</td>\n",
       "      <td>1235716603825672192</td>\n",
       "      <td>aileenwalsh16</td>\n",
       "      <td>RT @terraconcern: Professor Will Steffen gave ...</td>\n",
       "      <td>Thu Mar 05 23:59:31 +0000 2020</td>\n",
       "      <td>05/03/2020 23:59:31</td>\n",
       "      <td>NaN</td>\n",
       "      <td>NaN</td>\n",
       "      <td>NaN</td>\n",
       "      <td>NaN</td>\n",
       "      <td>3024513774</td>\n",
       "      <td>NaN</td>\n",
       "      <td>&lt;a href=\"http://twitter.com/download/iphone\" r...</td>\n",
       "      <td>http://pbs.twimg.com/profile_images/1206032443...</td>\n",
       "      <td>732.0</td>\n",
       "      <td>1650.0</td>\n",
       "      <td>Melbourne, Victoria</td>\n",
       "      <td>http://twitter.com/aileenwalsh16/statuses/1235...</td>\n",
       "      <td>{\"hashtags\":[{\"text\":\"ClimateChange\",\"indices\"...</td>\n",
       "    </tr>\n",
       "    <tr>\n",
       "      <td>3</td>\n",
       "      <td>1235716581264633856</td>\n",
       "      <td>RAAPTI</td>\n",
       "      <td>RT @zartajgulwazir: وزیر اعظم موسمیاتی تبدیلی ...</td>\n",
       "      <td>Thu Mar 05 23:59:26 +0000 2020</td>\n",
       "      <td>05/03/2020 23:59:26</td>\n",
       "      <td>NaN</td>\n",
       "      <td>NaN</td>\n",
       "      <td>NaN</td>\n",
       "      <td>NaN</td>\n",
       "      <td>802303884995731456</td>\n",
       "      <td>NaN</td>\n",
       "      <td>&lt;a href=\"http://twitter.com/download/android\" ...</td>\n",
       "      <td>http://pbs.twimg.com/profile_images/1237871731...</td>\n",
       "      <td>753.0</td>\n",
       "      <td>1264.0</td>\n",
       "      <td>Lahore, Pakistan</td>\n",
       "      <td>http://twitter.com/RAAPTI/statuses/12357165812...</td>\n",
       "      <td>{\"hashtags\":[],\"symbols\":[],\"user_mentions\":[{...</td>\n",
       "    </tr>\n",
       "    <tr>\n",
       "      <td>4</td>\n",
       "      <td>1235716553070366721</td>\n",
       "      <td>prollyhalal</td>\n",
       "      <td>RT @majidahhashim: Thousands of #RedJellyfish ...</td>\n",
       "      <td>Thu Mar 05 23:59:19 +0000 2020</td>\n",
       "      <td>05/03/2020 23:59:19</td>\n",
       "      <td>NaN</td>\n",
       "      <td>NaN</td>\n",
       "      <td>NaN</td>\n",
       "      <td>NaN</td>\n",
       "      <td>522793362</td>\n",
       "      <td>NaN</td>\n",
       "      <td>&lt;a href=\"http://twitter.com/download/iphone\" r...</td>\n",
       "      <td>http://pbs.twimg.com/profile_images/1140563800...</td>\n",
       "      <td>539.0</td>\n",
       "      <td>680.0</td>\n",
       "      <td>NaN</td>\n",
       "      <td>http://twitter.com/prollyhalal/statuses/123571...</td>\n",
       "      <td>{\"hashtags\":[{\"text\":\"RedJellyfish\",\"indices\":...</td>\n",
       "    </tr>\n",
       "  </tbody>\n",
       "</table>\n",
       "</div>"
      ],
      "text/plain": [
       "                id_str        from_user  \\\n",
       "0  1235716715415105536     Australia_21   \n",
       "1  1235716674420006912  Shirley08391760   \n",
       "2  1235716603825672192    aileenwalsh16   \n",
       "3  1235716581264633856           RAAPTI   \n",
       "4  1235716553070366721      prollyhalal   \n",
       "\n",
       "                                                text  \\\n",
       "0  Have you thought about how we’ll meet the 21st...   \n",
       "1  RT @The_taX_Files: Not only did #ScottyFomMark...   \n",
       "2  RT @terraconcern: Professor Will Steffen gave ...   \n",
       "3  RT @zartajgulwazir: وزیر اعظم موسمیاتی تبدیلی ...   \n",
       "4  RT @majidahhashim: Thousands of #RedJellyfish ...   \n",
       "\n",
       "                       created_at                 time geo_coordinates  \\\n",
       "0  Thu Mar 05 23:59:58 +0000 2020  05/03/2020 23:59:58             NaN   \n",
       "1  Thu Mar 05 23:59:48 +0000 2020  05/03/2020 23:59:48             NaN   \n",
       "2  Thu Mar 05 23:59:31 +0000 2020  05/03/2020 23:59:31             NaN   \n",
       "3  Thu Mar 05 23:59:26 +0000 2020  05/03/2020 23:59:26             NaN   \n",
       "4  Thu Mar 05 23:59:19 +0000 2020  05/03/2020 23:59:19             NaN   \n",
       "\n",
       "   user_lang  in_reply_to_user_id_str in_reply_to_screen_name  \\\n",
       "0        NaN                      NaN                     NaN   \n",
       "1        NaN                      NaN                     NaN   \n",
       "2        NaN                      NaN                     NaN   \n",
       "3        NaN                      NaN                     NaN   \n",
       "4        NaN                      NaN                     NaN   \n",
       "\n",
       "      from_user_id_str  in_reply_to_status_id_str  \\\n",
       "0            186716353                        NaN   \n",
       "1  1122054681180565505                        NaN   \n",
       "2           3024513774                        NaN   \n",
       "3   802303884995731456                        NaN   \n",
       "4            522793362                        NaN   \n",
       "\n",
       "                                              source  \\\n",
       "0  <a href=\"https://buffer.com\" rel=\"nofollow\">Bu...   \n",
       "1  <a href=\"https://mobile.twitter.com\" rel=\"nofo...   \n",
       "2  <a href=\"http://twitter.com/download/iphone\" r...   \n",
       "3  <a href=\"http://twitter.com/download/android\" ...   \n",
       "4  <a href=\"http://twitter.com/download/iphone\" r...   \n",
       "\n",
       "                                   profile_image_url  user_followers_count  \\\n",
       "0  http://pbs.twimg.com/profile_images/7631995434...                2612.0   \n",
       "1  http://pbs.twimg.com/profile_images/1134742705...                 261.0   \n",
       "2  http://pbs.twimg.com/profile_images/1206032443...                 732.0   \n",
       "3  http://pbs.twimg.com/profile_images/1237871731...                 753.0   \n",
       "4  http://pbs.twimg.com/profile_images/1140563800...                 539.0   \n",
       "\n",
       "   user_friends_count               user_location  \\\n",
       "0              1959.0                    Canberra   \n",
       "1               256.0  Jindabyne, New South Wales   \n",
       "2              1650.0         Melbourne, Victoria   \n",
       "3              1264.0            Lahore, Pakistan   \n",
       "4               680.0                         NaN   \n",
       "\n",
       "                                          status_url  \\\n",
       "0  http://twitter.com/Australia_21/statuses/12357...   \n",
       "1  http://twitter.com/Shirley08391760/statuses/12...   \n",
       "2  http://twitter.com/aileenwalsh16/statuses/1235...   \n",
       "3  http://twitter.com/RAAPTI/statuses/12357165812...   \n",
       "4  http://twitter.com/prollyhalal/statuses/123571...   \n",
       "\n",
       "                                        entities_str  \n",
       "0  {\"hashtags\":[{\"text\":\"ClimateChange\",\"indices\"...  \n",
       "1  {\"hashtags\":[{\"text\":\"ScottyFomMarketing\",\"ind...  \n",
       "2  {\"hashtags\":[{\"text\":\"ClimateChange\",\"indices\"...  \n",
       "3  {\"hashtags\":[],\"symbols\":[],\"user_mentions\":[{...  \n",
       "4  {\"hashtags\":[{\"text\":\"RedJellyfish\",\"indices\":...  "
      ]
     },
     "execution_count": 42,
     "metadata": {},
     "output_type": "execute_result"
    }
   ],
   "source": [
    "cmt = pd.read_csv(\"./Data/climatechange.csv\")\n",
    "cmt.head()"
   ]
  },
  {
   "cell_type": "code",
   "execution_count": 43,
   "metadata": {},
   "outputs": [
    {
     "data": {
      "text/plain": [
       "Index(['id_str', 'from_user', 'text', 'created_at', 'time', 'geo_coordinates',\n",
       "       'user_lang', 'in_reply_to_user_id_str', 'in_reply_to_screen_name',\n",
       "       'from_user_id_str', 'in_reply_to_status_id_str', 'source',\n",
       "       'profile_image_url', 'user_followers_count', 'user_friends_count',\n",
       "       'user_location', 'status_url', 'entities_str'],\n",
       "      dtype='object')"
      ]
     },
     "execution_count": 43,
     "metadata": {},
     "output_type": "execute_result"
    }
   ],
   "source": [
    "cmt.columns"
   ]
  },
  {
   "cell_type": "code",
   "execution_count": 44,
   "metadata": {},
   "outputs": [
    {
     "data": {
      "text/plain": [
       "(2975, 18)"
      ]
     },
     "execution_count": 44,
     "metadata": {},
     "output_type": "execute_result"
    }
   ],
   "source": [
    "cmt.shape"
   ]
  },
  {
   "cell_type": "code",
   "execution_count": 45,
   "metadata": {},
   "outputs": [
    {
     "data": {
      "text/plain": [
       "'{\"hashtags\":[{\"text\":\"ScottyFomMarketing\",\"indices\":[32,51]},{\"text\":\"climateChange\",\"indices\":[82,96]},{\"text\":\"AustralianFires\",\"indices\":[103,119]}],\"symbols\":[],\"user_mentions\":[{\"screen_name\":\"The_taX_Files\",\"name\":\"💧Fox Moulder 🔥\",\"id\":3013153314,\"id_str\":\"3013153314\",\"indices\":[3,17]}],\"urls\":[]}'"
      ]
     },
     "execution_count": 45,
     "metadata": {},
     "output_type": "execute_result"
    }
   ],
   "source": [
    "cmt.entities_str[1]"
   ]
  },
  {
   "cell_type": "code",
   "execution_count": 46,
   "metadata": {},
   "outputs": [
    {
     "data": {
      "text/plain": [
       "(2, 18)"
      ]
     },
     "execution_count": 46,
     "metadata": {},
     "output_type": "execute_result"
    }
   ],
   "source": [
    "cmt[cmt.text.str.contains(\"donation\")].shape"
   ]
  },
  {
   "cell_type": "code",
   "execution_count": 47,
   "metadata": {},
   "outputs": [
    {
     "data": {
      "text/html": [
       "<div>\n",
       "<style scoped>\n",
       "    .dataframe tbody tr th:only-of-type {\n",
       "        vertical-align: middle;\n",
       "    }\n",
       "\n",
       "    .dataframe tbody tr th {\n",
       "        vertical-align: top;\n",
       "    }\n",
       "\n",
       "    .dataframe thead th {\n",
       "        text-align: right;\n",
       "    }\n",
       "</style>\n",
       "<table border=\"1\" class=\"dataframe\">\n",
       "  <thead>\n",
       "    <tr style=\"text-align: right;\">\n",
       "      <th></th>\n",
       "      <th>id_str</th>\n",
       "      <th>from_user</th>\n",
       "      <th>text</th>\n",
       "      <th>created_at</th>\n",
       "      <th>time</th>\n",
       "      <th>geo_coordinates</th>\n",
       "      <th>user_lang</th>\n",
       "      <th>in_reply_to_user_id_str</th>\n",
       "      <th>in_reply_to_screen_name</th>\n",
       "      <th>from_user_id_str</th>\n",
       "      <th>in_reply_to_status_id_str</th>\n",
       "      <th>source</th>\n",
       "      <th>profile_image_url</th>\n",
       "      <th>user_followers_count</th>\n",
       "      <th>user_friends_count</th>\n",
       "      <th>user_location</th>\n",
       "      <th>status_url</th>\n",
       "      <th>entities_str</th>\n",
       "    </tr>\n",
       "  </thead>\n",
       "  <tbody>\n",
       "    <tr>\n",
       "      <td>0</td>\n",
       "      <td>1235716715415105536</td>\n",
       "      <td>Australia_21</td>\n",
       "      <td>Have you thought about how we’ll meet the 21st...</td>\n",
       "      <td>Thu Mar 05 23:59:58 +0000 2020</td>\n",
       "      <td>05/03/2020 23:59:58</td>\n",
       "      <td>NaN</td>\n",
       "      <td>NaN</td>\n",
       "      <td>NaN</td>\n",
       "      <td>NaN</td>\n",
       "      <td>186716353</td>\n",
       "      <td>NaN</td>\n",
       "      <td>&lt;a href=\"https://buffer.com\" rel=\"nofollow\"&gt;Bu...</td>\n",
       "      <td>http://pbs.twimg.com/profile_images/7631995434...</td>\n",
       "      <td>2612.0</td>\n",
       "      <td>1959.0</td>\n",
       "      <td>Canberra</td>\n",
       "      <td>http://twitter.com/Australia_21/statuses/12357...</td>\n",
       "      <td>{\"hashtags\":[{\"text\":\"ClimateChange\",\"indices\"...</td>\n",
       "    </tr>\n",
       "    <tr>\n",
       "      <td>1</td>\n",
       "      <td>1235716674420006912</td>\n",
       "      <td>Shirley08391760</td>\n",
       "      <td>RT @The_taX_Files: Not only did #ScottyFomMark...</td>\n",
       "      <td>Thu Mar 05 23:59:48 +0000 2020</td>\n",
       "      <td>05/03/2020 23:59:48</td>\n",
       "      <td>NaN</td>\n",
       "      <td>NaN</td>\n",
       "      <td>NaN</td>\n",
       "      <td>NaN</td>\n",
       "      <td>1122054681180565505</td>\n",
       "      <td>NaN</td>\n",
       "      <td>&lt;a href=\"https://mobile.twitter.com\" rel=\"nofo...</td>\n",
       "      <td>http://pbs.twimg.com/profile_images/1134742705...</td>\n",
       "      <td>261.0</td>\n",
       "      <td>256.0</td>\n",
       "      <td>Jindabyne, New South Wales</td>\n",
       "      <td>http://twitter.com/Shirley08391760/statuses/12...</td>\n",
       "      <td>{\"hashtags\":[{\"text\":\"ScottyFomMarketing\",\"ind...</td>\n",
       "    </tr>\n",
       "    <tr>\n",
       "      <td>2</td>\n",
       "      <td>1235716603825672192</td>\n",
       "      <td>aileenwalsh16</td>\n",
       "      <td>RT @terraconcern: Professor Will Steffen gave ...</td>\n",
       "      <td>Thu Mar 05 23:59:31 +0000 2020</td>\n",
       "      <td>05/03/2020 23:59:31</td>\n",
       "      <td>NaN</td>\n",
       "      <td>NaN</td>\n",
       "      <td>NaN</td>\n",
       "      <td>NaN</td>\n",
       "      <td>3024513774</td>\n",
       "      <td>NaN</td>\n",
       "      <td>&lt;a href=\"http://twitter.com/download/iphone\" r...</td>\n",
       "      <td>http://pbs.twimg.com/profile_images/1206032443...</td>\n",
       "      <td>732.0</td>\n",
       "      <td>1650.0</td>\n",
       "      <td>Melbourne, Victoria</td>\n",
       "      <td>http://twitter.com/aileenwalsh16/statuses/1235...</td>\n",
       "      <td>{\"hashtags\":[{\"text\":\"ClimateChange\",\"indices\"...</td>\n",
       "    </tr>\n",
       "    <tr>\n",
       "      <td>3</td>\n",
       "      <td>1235716581264633856</td>\n",
       "      <td>RAAPTI</td>\n",
       "      <td>RT @zartajgulwazir: وزیر اعظم موسمیاتی تبدیلی ...</td>\n",
       "      <td>Thu Mar 05 23:59:26 +0000 2020</td>\n",
       "      <td>05/03/2020 23:59:26</td>\n",
       "      <td>NaN</td>\n",
       "      <td>NaN</td>\n",
       "      <td>NaN</td>\n",
       "      <td>NaN</td>\n",
       "      <td>802303884995731456</td>\n",
       "      <td>NaN</td>\n",
       "      <td>&lt;a href=\"http://twitter.com/download/android\" ...</td>\n",
       "      <td>http://pbs.twimg.com/profile_images/1237871731...</td>\n",
       "      <td>753.0</td>\n",
       "      <td>1264.0</td>\n",
       "      <td>Lahore, Pakistan</td>\n",
       "      <td>http://twitter.com/RAAPTI/statuses/12357165812...</td>\n",
       "      <td>{\"hashtags\":[],\"symbols\":[],\"user_mentions\":[{...</td>\n",
       "    </tr>\n",
       "    <tr>\n",
       "      <td>4</td>\n",
       "      <td>1235716553070366721</td>\n",
       "      <td>prollyhalal</td>\n",
       "      <td>RT @majidahhashim: Thousands of #RedJellyfish ...</td>\n",
       "      <td>Thu Mar 05 23:59:19 +0000 2020</td>\n",
       "      <td>05/03/2020 23:59:19</td>\n",
       "      <td>NaN</td>\n",
       "      <td>NaN</td>\n",
       "      <td>NaN</td>\n",
       "      <td>NaN</td>\n",
       "      <td>522793362</td>\n",
       "      <td>NaN</td>\n",
       "      <td>&lt;a href=\"http://twitter.com/download/iphone\" r...</td>\n",
       "      <td>http://pbs.twimg.com/profile_images/1140563800...</td>\n",
       "      <td>539.0</td>\n",
       "      <td>680.0</td>\n",
       "      <td>NaN</td>\n",
       "      <td>http://twitter.com/prollyhalal/statuses/123571...</td>\n",
       "      <td>{\"hashtags\":[{\"text\":\"RedJellyfish\",\"indices\":...</td>\n",
       "    </tr>\n",
       "  </tbody>\n",
       "</table>\n",
       "</div>"
      ],
      "text/plain": [
       "                id_str        from_user  \\\n",
       "0  1235716715415105536     Australia_21   \n",
       "1  1235716674420006912  Shirley08391760   \n",
       "2  1235716603825672192    aileenwalsh16   \n",
       "3  1235716581264633856           RAAPTI   \n",
       "4  1235716553070366721      prollyhalal   \n",
       "\n",
       "                                                text  \\\n",
       "0  Have you thought about how we’ll meet the 21st...   \n",
       "1  RT @The_taX_Files: Not only did #ScottyFomMark...   \n",
       "2  RT @terraconcern: Professor Will Steffen gave ...   \n",
       "3  RT @zartajgulwazir: وزیر اعظم موسمیاتی تبدیلی ...   \n",
       "4  RT @majidahhashim: Thousands of #RedJellyfish ...   \n",
       "\n",
       "                       created_at                 time geo_coordinates  \\\n",
       "0  Thu Mar 05 23:59:58 +0000 2020  05/03/2020 23:59:58             NaN   \n",
       "1  Thu Mar 05 23:59:48 +0000 2020  05/03/2020 23:59:48             NaN   \n",
       "2  Thu Mar 05 23:59:31 +0000 2020  05/03/2020 23:59:31             NaN   \n",
       "3  Thu Mar 05 23:59:26 +0000 2020  05/03/2020 23:59:26             NaN   \n",
       "4  Thu Mar 05 23:59:19 +0000 2020  05/03/2020 23:59:19             NaN   \n",
       "\n",
       "   user_lang  in_reply_to_user_id_str in_reply_to_screen_name  \\\n",
       "0        NaN                      NaN                     NaN   \n",
       "1        NaN                      NaN                     NaN   \n",
       "2        NaN                      NaN                     NaN   \n",
       "3        NaN                      NaN                     NaN   \n",
       "4        NaN                      NaN                     NaN   \n",
       "\n",
       "      from_user_id_str  in_reply_to_status_id_str  \\\n",
       "0            186716353                        NaN   \n",
       "1  1122054681180565505                        NaN   \n",
       "2           3024513774                        NaN   \n",
       "3   802303884995731456                        NaN   \n",
       "4            522793362                        NaN   \n",
       "\n",
       "                                              source  \\\n",
       "0  <a href=\"https://buffer.com\" rel=\"nofollow\">Bu...   \n",
       "1  <a href=\"https://mobile.twitter.com\" rel=\"nofo...   \n",
       "2  <a href=\"http://twitter.com/download/iphone\" r...   \n",
       "3  <a href=\"http://twitter.com/download/android\" ...   \n",
       "4  <a href=\"http://twitter.com/download/iphone\" r...   \n",
       "\n",
       "                                   profile_image_url  user_followers_count  \\\n",
       "0  http://pbs.twimg.com/profile_images/7631995434...                2612.0   \n",
       "1  http://pbs.twimg.com/profile_images/1134742705...                 261.0   \n",
       "2  http://pbs.twimg.com/profile_images/1206032443...                 732.0   \n",
       "3  http://pbs.twimg.com/profile_images/1237871731...                 753.0   \n",
       "4  http://pbs.twimg.com/profile_images/1140563800...                 539.0   \n",
       "\n",
       "   user_friends_count               user_location  \\\n",
       "0              1959.0                    Canberra   \n",
       "1               256.0  Jindabyne, New South Wales   \n",
       "2              1650.0         Melbourne, Victoria   \n",
       "3              1264.0            Lahore, Pakistan   \n",
       "4               680.0                         NaN   \n",
       "\n",
       "                                          status_url  \\\n",
       "0  http://twitter.com/Australia_21/statuses/12357...   \n",
       "1  http://twitter.com/Shirley08391760/statuses/12...   \n",
       "2  http://twitter.com/aileenwalsh16/statuses/1235...   \n",
       "3  http://twitter.com/RAAPTI/statuses/12357165812...   \n",
       "4  http://twitter.com/prollyhalal/statuses/123571...   \n",
       "\n",
       "                                        entities_str  \n",
       "0  {\"hashtags\":[{\"text\":\"ClimateChange\",\"indices\"...  \n",
       "1  {\"hashtags\":[{\"text\":\"ScottyFomMarketing\",\"ind...  \n",
       "2  {\"hashtags\":[{\"text\":\"ClimateChange\",\"indices\"...  \n",
       "3  {\"hashtags\":[],\"symbols\":[],\"user_mentions\":[{...  \n",
       "4  {\"hashtags\":[{\"text\":\"RedJellyfish\",\"indices\":...  "
      ]
     },
     "execution_count": 47,
     "metadata": {},
     "output_type": "execute_result"
    }
   ],
   "source": [
    "fire = pd.read_csv(\"./Data/forestfie.csv\")\n",
    "fire.head()"
   ]
  },
  {
   "cell_type": "code",
   "execution_count": 48,
   "metadata": {},
   "outputs": [
    {
     "data": {
      "text/plain": [
       "2975"
      ]
     },
     "execution_count": 48,
     "metadata": {},
     "output_type": "execute_result"
    }
   ],
   "source": [
    "fire.shape[0]"
   ]
  },
  {
   "cell_type": "code",
   "execution_count": 49,
   "metadata": {},
   "outputs": [
    {
     "data": {
      "text/plain": [
       "Index(['id_str', 'from_user', 'text', 'created_at', 'time', 'geo_coordinates',\n",
       "       'user_lang', 'in_reply_to_user_id_str', 'in_reply_to_screen_name',\n",
       "       'from_user_id_str', 'in_reply_to_status_id_str', 'source',\n",
       "       'profile_image_url', 'user_followers_count', 'user_friends_count',\n",
       "       'user_location', 'status_url', 'entities_str'],\n",
       "      dtype='object')"
      ]
     },
     "execution_count": 49,
     "metadata": {},
     "output_type": "execute_result"
    }
   ],
   "source": [
    "fire.columns"
   ]
  },
  {
   "cell_type": "markdown",
   "metadata": {},
   "source": [
    "### Checking count before stemming and removing stopping words\n",
    "\n",
    "Modify `keyword` variable to add or remove keywords"
   ]
  },
  {
   "cell_type": "code",
   "execution_count": 69,
   "metadata": {},
   "outputs": [],
   "source": [
    "keywords = [\"donations\", \"donor\", \"charity\", \"fundraising\"]"
   ]
  },
  {
   "cell_type": "markdown",
   "metadata": {},
   "source": [
    "Counting rows that contain the keywords"
   ]
  },
  {
   "cell_type": "code",
   "execution_count": 70,
   "metadata": {},
   "outputs": [
    {
     "name": "stdout",
     "output_type": "stream",
     "text": [
      "{'donations': 4, 'donor': 0, 'charity': 4, 'fundraising': 2}\n"
     ]
    }
   ],
   "source": [
    "key_dictionary = dict()\n",
    "for i in keywords:\n",
    "    key_dictionary[i] = key_dictionary.get(i, 0) + cmt[cmt.text.str.contains(i)].shape[0] + fire[fire.text.str.contains(i)].shape[0] + amz[amz.text.str.contains(i)].shape[0] \n",
    "print(key_dictionary)"
   ]
  },
  {
   "cell_type": "markdown",
   "metadata": {},
   "source": [
    "### Importing Plotting Library"
   ]
  },
  {
   "cell_type": "code",
   "execution_count": 53,
   "metadata": {},
   "outputs": [],
   "source": [
    "import matplotlib.pyplot as plt\n",
    "%matplotlib inline"
   ]
  },
  {
   "cell_type": "code",
   "execution_count": 71,
   "metadata": {},
   "outputs": [
    {
     "data": {
      "image/png": "[encoded data removed]",
      "text/plain": [
       "<Figure size 576x576 with 1 Axes>"
      ]
     },
     "metadata": {
      "needs_background": "light"
     },
     "output_type": "display_data"
    }
   ],
   "source": [
    "Y = []\n",
    "for  i in keywords:\n",
    "    Y.append(key_dictionary[i])\n",
    "plt.figure(figsize=(8, 8))\n",
    "plt.bar(keywords, Y)\n",
    "plt.title(\"Keywords count in Corpora\")\n",
    "plt.ylabel(\"Count\")\n",
    "plt.xlabel(\"Key Words\")\n",
    "plt.show()"
   ]
  },
  {
   "cell_type": "markdown",
   "metadata": {},
   "source": [
    "## Using NLTK for extraction"
   ]
  },
  {
   "cell_type": "code",
   "execution_count": 18,
   "metadata": {},
   "outputs": [],
   "source": [
    "import nltk\n",
    "from nltk.stem import WordNetLemmatizer # If we want to lemmatize the words. (Not used in this notebook)\n",
    "from nltk.tokenize import TweetTokenizer # TweetTokenizer  (Not used in this notebook)\n",
    "from nltk.tokenize import word_tokenize # Word Tokenization\n",
    "from nltk.stem import PorterStemmer # Stemming the words to root part of the word\n",
    "from nltk.corpus import stopwords # Premoving the stopping words"
   ]
  },
  {
   "cell_type": "markdown",
   "metadata": {},
   "source": [
    "### If you are running for the first time uncomment the following cell and download then comment after successful execution\n",
    "(98 MB)"
   ]
  },
  {
   "cell_type": "code",
   "execution_count": 55,
   "metadata": {},
   "outputs": [],
   "source": [
    "# nltk.download('wordnet')\n",
    "# nltk.download('punkt')\n",
    "# nltk.download('stopwords')"
   ]
  },
  {
   "cell_type": "markdown",
   "metadata": {},
   "source": [
    "Setting the Stop words to English (Check Documentation for other languages)"
   ]
  },
  {
   "cell_type": "code",
   "execution_count": 56,
   "metadata": {},
   "outputs": [],
   "source": [
    "stop_words = set(stopwords.words('english'))"
   ]
  },
  {
   "cell_type": "markdown",
   "metadata": {},
   "source": [
    "## Testing before applying to whole dataset\n",
    "\n",
    "Word Tokenization"
   ]
  },
  {
   "cell_type": "code",
   "execution_count": 73,
   "metadata": {},
   "outputs": [
    {
     "name": "stdout",
     "output_type": "stream",
     "text": [
      "['Have', 'you', 'thought', 'about', 'how', 'we', '’', 'll', 'meet', 'the', '21st', 'Century', 'challenges', 'of', 'climate', 'change', ',', 'plus', 'food', ',', 'water', 'and', 'energy', 'security', '?', 'Australia', 'needs', 'to', 'look', 'at', 'its', 'landscapes', 'in', 'new', 'ways', ':', 'https', ':', '//t.co/WiUZsDSh2S', '#', 'ClimateChange', '#', 'Sustainability', 'https', ':', '//t.co/jnvhN1cu6r']\n"
     ]
    }
   ],
   "source": [
    "text = fire.text[0]\n",
    "tokens = word_tokenize(text)\n",
    "print(tokens) "
   ]
  },
  {
   "cell_type": "markdown",
   "metadata": {},
   "source": [
    "Stemming"
   ]
  },
  {
   "cell_type": "code",
   "execution_count": 74,
   "metadata": {},
   "outputs": [
    {
     "name": "stdout",
     "output_type": "stream",
     "text": [
      "['have', 'you', 'thought', 'about', 'how', 'we', '’', 'll', 'meet', 'the', '21st', 'centuri', 'challeng', 'of', 'climat', 'chang', ',', 'plu', 'food', ',', 'water', 'and', 'energi', 'secur', '?', 'australia', 'need', 'to', 'look', 'at', 'it', 'landscap', 'in', 'new', 'way', ':', 'http', ':', '//t.co/wiuzsdsh2', '#', 'climatechang', '#', 'sustain', 'http', ':', '//t.co/jnvhn1cu6r']\n"
     ]
    }
   ],
   "source": [
    "st_list = []\n",
    "ps = PorterStemmer()\n",
    "for w in tokens: \n",
    "    st = ps.stem(w)\n",
    "    st_list.append(st)\n",
    "print(st_list)"
   ]
  },
  {
   "cell_type": "markdown",
   "metadata": {},
   "source": [
    "Removing Stopping words"
   ]
  },
  {
   "cell_type": "code",
   "execution_count": 75,
   "metadata": {},
   "outputs": [
    {
     "name": "stdout",
     "output_type": "stream",
     "text": [
      "['thought', '’', 'meet', '21st', 'centuri', 'challeng', 'climat', 'chang', ',', 'plu', 'food', ',', 'water', 'energi', 'secur', '?', 'australia', 'need', 'look', 'landscap', 'new', 'way', ':', 'http', ':', '//t.co/wiuzsdsh2', '#', 'climatechang', '#', 'sustain', 'http', ':', '//t.co/jnvhn1cu6r']\n"
     ]
    }
   ],
   "source": [
    "filtered_sentence = [w for w in st_list if not w in stop_words] \n",
    "print(filtered_sentence) "
   ]
  },
  {
   "cell_type": "markdown",
   "metadata": {},
   "source": [
    "## Applying to Dataset\n",
    "\n",
    "Following are the functions for tokenisation, stemming and removing stopping words"
   ]
  },
  {
   "cell_type": "code",
   "execution_count": 76,
   "metadata": {},
   "outputs": [],
   "source": [
    "def tokenize_txt(text):\n",
    "    return word_tokenize(text)"
   ]
  },
  {
   "cell_type": "code",
   "execution_count": 77,
   "metadata": {},
   "outputs": [],
   "source": [
    "def stem_txt(tokens):\n",
    "    st_list = []\n",
    "    ps = PorterStemmer() \n",
    "    for w in tokens: \n",
    "        st_list.append(ps.stem(w))\n",
    "    return st_list"
   ]
  },
  {
   "cell_type": "code",
   "execution_count": 78,
   "metadata": {},
   "outputs": [],
   "source": [
    "def rm_stop_words(token):\n",
    "    return [w for w in token if not w in stop_words] "
   ]
  },
  {
   "cell_type": "markdown",
   "metadata": {},
   "source": [
    "#### Stemming th keywords to match stemmed list"
   ]
  },
  {
   "cell_type": "code",
   "execution_count": 79,
   "metadata": {},
   "outputs": [],
   "source": [
    "stemed_keywords = stem_txt(keywords)"
   ]
  },
  {
   "cell_type": "markdown",
   "metadata": {},
   "source": [
    "#### Combination of above function to apply on the dataset"
   ]
  },
  {
   "cell_type": "code",
   "execution_count": 80,
   "metadata": {},
   "outputs": [],
   "source": [
    "def filter_text(text):\n",
    "    return rm_stop_words(stem_txt(tokenize_txt(text)))"
   ]
  },
  {
   "cell_type": "code",
   "execution_count": 81,
   "metadata": {},
   "outputs": [
    {
     "data": {
      "text/html": [
       "<div>\n",
       "<style scoped>\n",
       "    .dataframe tbody tr th:only-of-type {\n",
       "        vertical-align: middle;\n",
       "    }\n",
       "\n",
       "    .dataframe tbody tr th {\n",
       "        vertical-align: top;\n",
       "    }\n",
       "\n",
       "    .dataframe thead th {\n",
       "        text-align: right;\n",
       "    }\n",
       "</style>\n",
       "<table border=\"1\" class=\"dataframe\">\n",
       "  <thead>\n",
       "    <tr style=\"text-align: right;\">\n",
       "      <th></th>\n",
       "      <th>id_str</th>\n",
       "      <th>from_user</th>\n",
       "      <th>text</th>\n",
       "      <th>created_at</th>\n",
       "      <th>time</th>\n",
       "      <th>geo_coordinates</th>\n",
       "      <th>user_lang</th>\n",
       "      <th>in_reply_to_user_id_str</th>\n",
       "      <th>in_reply_to_screen_name</th>\n",
       "      <th>from_user_id_str</th>\n",
       "      <th>in_reply_to_status_id_str</th>\n",
       "      <th>source</th>\n",
       "      <th>profile_image_url</th>\n",
       "      <th>user_followers_count</th>\n",
       "      <th>user_friends_count</th>\n",
       "      <th>user_location</th>\n",
       "      <th>status_url</th>\n",
       "      <th>entities_str</th>\n",
       "      <th>filter_text</th>\n",
       "    </tr>\n",
       "  </thead>\n",
       "  <tbody>\n",
       "    <tr>\n",
       "      <td>0</td>\n",
       "      <td>1235716715415105536</td>\n",
       "      <td>Australia_21</td>\n",
       "      <td>Have you thought about how we’ll meet the 21st...</td>\n",
       "      <td>Thu Mar 05 23:59:58 +0000 2020</td>\n",
       "      <td>05/03/2020 23:59:58</td>\n",
       "      <td>NaN</td>\n",
       "      <td>NaN</td>\n",
       "      <td>NaN</td>\n",
       "      <td>NaN</td>\n",
       "      <td>186716353</td>\n",
       "      <td>NaN</td>\n",
       "      <td>&lt;a href=\"https://buffer.com\" rel=\"nofollow\"&gt;Bu...</td>\n",
       "      <td>http://pbs.twimg.com/profile_images/7631995434...</td>\n",
       "      <td>2612.0</td>\n",
       "      <td>1959.0</td>\n",
       "      <td>Canberra</td>\n",
       "      <td>http://twitter.com/Australia_21/statuses/12357...</td>\n",
       "      <td>{\"hashtags\":[{\"text\":\"ClimateChange\",\"indices\"...</td>\n",
       "      <td>[thought, ’, meet, 21st, centuri, challeng, cl...</td>\n",
       "    </tr>\n",
       "    <tr>\n",
       "      <td>1</td>\n",
       "      <td>1235716674420006912</td>\n",
       "      <td>Shirley08391760</td>\n",
       "      <td>RT @The_taX_Files: Not only did #ScottyFomMark...</td>\n",
       "      <td>Thu Mar 05 23:59:48 +0000 2020</td>\n",
       "      <td>05/03/2020 23:59:48</td>\n",
       "      <td>NaN</td>\n",
       "      <td>NaN</td>\n",
       "      <td>NaN</td>\n",
       "      <td>NaN</td>\n",
       "      <td>1122054681180565505</td>\n",
       "      <td>NaN</td>\n",
       "      <td>&lt;a href=\"https://mobile.twitter.com\" rel=\"nofo...</td>\n",
       "      <td>http://pbs.twimg.com/profile_images/1134742705...</td>\n",
       "      <td>261.0</td>\n",
       "      <td>256.0</td>\n",
       "      <td>Jindabyne, New South Wales</td>\n",
       "      <td>http://twitter.com/Shirley08391760/statuses/12...</td>\n",
       "      <td>{\"hashtags\":[{\"text\":\"ScottyFomMarketing\",\"ind...</td>\n",
       "      <td>[RT, @, the_tax_fil, :, onli, #, scottyfommark...</td>\n",
       "    </tr>\n",
       "    <tr>\n",
       "      <td>2</td>\n",
       "      <td>1235716603825672192</td>\n",
       "      <td>aileenwalsh16</td>\n",
       "      <td>RT @terraconcern: Professor Will Steffen gave ...</td>\n",
       "      <td>Thu Mar 05 23:59:31 +0000 2020</td>\n",
       "      <td>05/03/2020 23:59:31</td>\n",
       "      <td>NaN</td>\n",
       "      <td>NaN</td>\n",
       "      <td>NaN</td>\n",
       "      <td>NaN</td>\n",
       "      <td>3024513774</td>\n",
       "      <td>NaN</td>\n",
       "      <td>&lt;a href=\"http://twitter.com/download/iphone\" r...</td>\n",
       "      <td>http://pbs.twimg.com/profile_images/1206032443...</td>\n",
       "      <td>732.0</td>\n",
       "      <td>1650.0</td>\n",
       "      <td>Melbourne, Victoria</td>\n",
       "      <td>http://twitter.com/aileenwalsh16/statuses/1235...</td>\n",
       "      <td>{\"hashtags\":[{\"text\":\"ClimateChange\",\"indices\"...</td>\n",
       "      <td>[RT, @, terraconcern, :, professor, steffen, g...</td>\n",
       "    </tr>\n",
       "    <tr>\n",
       "      <td>3</td>\n",
       "      <td>1235716581264633856</td>\n",
       "      <td>RAAPTI</td>\n",
       "      <td>RT @zartajgulwazir: وزیر اعظم موسمیاتی تبدیلی ...</td>\n",
       "      <td>Thu Mar 05 23:59:26 +0000 2020</td>\n",
       "      <td>05/03/2020 23:59:26</td>\n",
       "      <td>NaN</td>\n",
       "      <td>NaN</td>\n",
       "      <td>NaN</td>\n",
       "      <td>NaN</td>\n",
       "      <td>802303884995731456</td>\n",
       "      <td>NaN</td>\n",
       "      <td>&lt;a href=\"http://twitter.com/download/android\" ...</td>\n",
       "      <td>http://pbs.twimg.com/profile_images/1237871731...</td>\n",
       "      <td>753.0</td>\n",
       "      <td>1264.0</td>\n",
       "      <td>Lahore, Pakistan</td>\n",
       "      <td>http://twitter.com/RAAPTI/statuses/12357165812...</td>\n",
       "      <td>{\"hashtags\":[],\"symbols\":[],\"user_mentions\":[{...</td>\n",
       "      <td>[RT, @, zartajgulwazir, :, وزیر, اعظم, موسمیات...</td>\n",
       "    </tr>\n",
       "    <tr>\n",
       "      <td>4</td>\n",
       "      <td>1235716553070366721</td>\n",
       "      <td>prollyhalal</td>\n",
       "      <td>RT @majidahhashim: Thousands of #RedJellyfish ...</td>\n",
       "      <td>Thu Mar 05 23:59:19 +0000 2020</td>\n",
       "      <td>05/03/2020 23:59:19</td>\n",
       "      <td>NaN</td>\n",
       "      <td>NaN</td>\n",
       "      <td>NaN</td>\n",
       "      <td>NaN</td>\n",
       "      <td>522793362</td>\n",
       "      <td>NaN</td>\n",
       "      <td>&lt;a href=\"http://twitter.com/download/iphone\" r...</td>\n",
       "      <td>http://pbs.twimg.com/profile_images/1140563800...</td>\n",
       "      <td>539.0</td>\n",
       "      <td>680.0</td>\n",
       "      <td>NaN</td>\n",
       "      <td>http://twitter.com/prollyhalal/statuses/123571...</td>\n",
       "      <td>{\"hashtags\":[{\"text\":\"RedJellyfish\",\"indices\":...</td>\n",
       "      <td>[RT, @, majidahhashim, :, thousand, #, redjell...</td>\n",
       "    </tr>\n",
       "  </tbody>\n",
       "</table>\n",
       "</div>"
      ],
      "text/plain": [
       "                id_str        from_user  \\\n",
       "0  1235716715415105536     Australia_21   \n",
       "1  1235716674420006912  Shirley08391760   \n",
       "2  1235716603825672192    aileenwalsh16   \n",
       "3  1235716581264633856           RAAPTI   \n",
       "4  1235716553070366721      prollyhalal   \n",
       "\n",
       "                                                text  \\\n",
       "0  Have you thought about how we’ll meet the 21st...   \n",
       "1  RT @The_taX_Files: Not only did #ScottyFomMark...   \n",
       "2  RT @terraconcern: Professor Will Steffen gave ...   \n",
       "3  RT @zartajgulwazir: وزیر اعظم موسمیاتی تبدیلی ...   \n",
       "4  RT @majidahhashim: Thousands of #RedJellyfish ...   \n",
       "\n",
       "                       created_at                 time geo_coordinates  \\\n",
       "0  Thu Mar 05 23:59:58 +0000 2020  05/03/2020 23:59:58             NaN   \n",
       "1  Thu Mar 05 23:59:48 +0000 2020  05/03/2020 23:59:48             NaN   \n",
       "2  Thu Mar 05 23:59:31 +0000 2020  05/03/2020 23:59:31             NaN   \n",
       "3  Thu Mar 05 23:59:26 +0000 2020  05/03/2020 23:59:26             NaN   \n",
       "4  Thu Mar 05 23:59:19 +0000 2020  05/03/2020 23:59:19             NaN   \n",
       "\n",
       "   user_lang  in_reply_to_user_id_str in_reply_to_screen_name  \\\n",
       "0        NaN                      NaN                     NaN   \n",
       "1        NaN                      NaN                     NaN   \n",
       "2        NaN                      NaN                     NaN   \n",
       "3        NaN                      NaN                     NaN   \n",
       "4        NaN                      NaN                     NaN   \n",
       "\n",
       "      from_user_id_str  in_reply_to_status_id_str  \\\n",
       "0            186716353                        NaN   \n",
       "1  1122054681180565505                        NaN   \n",
       "2           3024513774                        NaN   \n",
       "3   802303884995731456                        NaN   \n",
       "4            522793362                        NaN   \n",
       "\n",
       "                                              source  \\\n",
       "0  <a href=\"https://buffer.com\" rel=\"nofollow\">Bu...   \n",
       "1  <a href=\"https://mobile.twitter.com\" rel=\"nofo...   \n",
       "2  <a href=\"http://twitter.com/download/iphone\" r...   \n",
       "3  <a href=\"http://twitter.com/download/android\" ...   \n",
       "4  <a href=\"http://twitter.com/download/iphone\" r...   \n",
       "\n",
       "                                   profile_image_url  user_followers_count  \\\n",
       "0  http://pbs.twimg.com/profile_images/7631995434...                2612.0   \n",
       "1  http://pbs.twimg.com/profile_images/1134742705...                 261.0   \n",
       "2  http://pbs.twimg.com/profile_images/1206032443...                 732.0   \n",
       "3  http://pbs.twimg.com/profile_images/1237871731...                 753.0   \n",
       "4  http://pbs.twimg.com/profile_images/1140563800...                 539.0   \n",
       "\n",
       "   user_friends_count               user_location  \\\n",
       "0              1959.0                    Canberra   \n",
       "1               256.0  Jindabyne, New South Wales   \n",
       "2              1650.0         Melbourne, Victoria   \n",
       "3              1264.0            Lahore, Pakistan   \n",
       "4               680.0                         NaN   \n",
       "\n",
       "                                          status_url  \\\n",
       "0  http://twitter.com/Australia_21/statuses/12357...   \n",
       "1  http://twitter.com/Shirley08391760/statuses/12...   \n",
       "2  http://twitter.com/aileenwalsh16/statuses/1235...   \n",
       "3  http://twitter.com/RAAPTI/statuses/12357165812...   \n",
       "4  http://twitter.com/prollyhalal/statuses/123571...   \n",
       "\n",
       "                                        entities_str  \\\n",
       "0  {\"hashtags\":[{\"text\":\"ClimateChange\",\"indices\"...   \n",
       "1  {\"hashtags\":[{\"text\":\"ScottyFomMarketing\",\"ind...   \n",
       "2  {\"hashtags\":[{\"text\":\"ClimateChange\",\"indices\"...   \n",
       "3  {\"hashtags\":[],\"symbols\":[],\"user_mentions\":[{...   \n",
       "4  {\"hashtags\":[{\"text\":\"RedJellyfish\",\"indices\":...   \n",
       "\n",
       "                                         filter_text  \n",
       "0  [thought, ’, meet, 21st, centuri, challeng, cl...  \n",
       "1  [RT, @, the_tax_fil, :, onli, #, scottyfommark...  \n",
       "2  [RT, @, terraconcern, :, professor, steffen, g...  \n",
       "3  [RT, @, zartajgulwazir, :, وزیر, اعظم, موسمیات...  \n",
       "4  [RT, @, majidahhashim, :, thousand, #, redjell...  "
      ]
     },
     "execution_count": 81,
     "metadata": {},
     "output_type": "execute_result"
    }
   ],
   "source": [
    "cmt[\"filter_text\"] = cmt[\"text\"].apply(filter_text)\n",
    "cmt.head()"
   ]
  },
  {
   "cell_type": "code",
   "execution_count": 82,
   "metadata": {},
   "outputs": [
    {
     "data": {
      "text/html": [
       "<div>\n",
       "<style scoped>\n",
       "    .dataframe tbody tr th:only-of-type {\n",
       "        vertical-align: middle;\n",
       "    }\n",
       "\n",
       "    .dataframe tbody tr th {\n",
       "        vertical-align: top;\n",
       "    }\n",
       "\n",
       "    .dataframe thead th {\n",
       "        text-align: right;\n",
       "    }\n",
       "</style>\n",
       "<table border=\"1\" class=\"dataframe\">\n",
       "  <thead>\n",
       "    <tr style=\"text-align: right;\">\n",
       "      <th></th>\n",
       "      <th>id_str</th>\n",
       "      <th>from_user</th>\n",
       "      <th>text</th>\n",
       "      <th>created_at</th>\n",
       "      <th>time</th>\n",
       "      <th>geo_coordinates</th>\n",
       "      <th>user_lang</th>\n",
       "      <th>in_reply_to_user_id_str</th>\n",
       "      <th>in_reply_to_screen_name</th>\n",
       "      <th>from_user_id_str</th>\n",
       "      <th>in_reply_to_status_id_str</th>\n",
       "      <th>source</th>\n",
       "      <th>profile_image_url</th>\n",
       "      <th>user_followers_count</th>\n",
       "      <th>user_friends_count</th>\n",
       "      <th>user_location</th>\n",
       "      <th>status_url</th>\n",
       "      <th>entities_str</th>\n",
       "      <th>filter_text</th>\n",
       "    </tr>\n",
       "  </thead>\n",
       "  <tbody>\n",
       "    <tr>\n",
       "      <td>0</td>\n",
       "      <td>1235716715415105536</td>\n",
       "      <td>Australia_21</td>\n",
       "      <td>Have you thought about how we’ll meet the 21st...</td>\n",
       "      <td>Thu Mar 05 23:59:58 +0000 2020</td>\n",
       "      <td>05/03/2020 23:59:58</td>\n",
       "      <td>NaN</td>\n",
       "      <td>NaN</td>\n",
       "      <td>NaN</td>\n",
       "      <td>NaN</td>\n",
       "      <td>186716353</td>\n",
       "      <td>NaN</td>\n",
       "      <td>&lt;a href=\"https://buffer.com\" rel=\"nofollow\"&gt;Bu...</td>\n",
       "      <td>http://pbs.twimg.com/profile_images/7631995434...</td>\n",
       "      <td>2612.0</td>\n",
       "      <td>1959.0</td>\n",
       "      <td>Canberra</td>\n",
       "      <td>http://twitter.com/Australia_21/statuses/12357...</td>\n",
       "      <td>{\"hashtags\":[{\"text\":\"ClimateChange\",\"indices\"...</td>\n",
       "      <td>[thought, ’, meet, 21st, centuri, challeng, cl...</td>\n",
       "    </tr>\n",
       "    <tr>\n",
       "      <td>1</td>\n",
       "      <td>1235716674420006912</td>\n",
       "      <td>Shirley08391760</td>\n",
       "      <td>RT @The_taX_Files: Not only did #ScottyFomMark...</td>\n",
       "      <td>Thu Mar 05 23:59:48 +0000 2020</td>\n",
       "      <td>05/03/2020 23:59:48</td>\n",
       "      <td>NaN</td>\n",
       "      <td>NaN</td>\n",
       "      <td>NaN</td>\n",
       "      <td>NaN</td>\n",
       "      <td>1122054681180565505</td>\n",
       "      <td>NaN</td>\n",
       "      <td>&lt;a href=\"https://mobile.twitter.com\" rel=\"nofo...</td>\n",
       "      <td>http://pbs.twimg.com/profile_images/1134742705...</td>\n",
       "      <td>261.0</td>\n",
       "      <td>256.0</td>\n",
       "      <td>Jindabyne, New South Wales</td>\n",
       "      <td>http://twitter.com/Shirley08391760/statuses/12...</td>\n",
       "      <td>{\"hashtags\":[{\"text\":\"ScottyFomMarketing\",\"ind...</td>\n",
       "      <td>[RT, @, the_tax_fil, :, onli, #, scottyfommark...</td>\n",
       "    </tr>\n",
       "    <tr>\n",
       "      <td>2</td>\n",
       "      <td>1235716603825672192</td>\n",
       "      <td>aileenwalsh16</td>\n",
       "      <td>RT @terraconcern: Professor Will Steffen gave ...</td>\n",
       "      <td>Thu Mar 05 23:59:31 +0000 2020</td>\n",
       "      <td>05/03/2020 23:59:31</td>\n",
       "      <td>NaN</td>\n",
       "      <td>NaN</td>\n",
       "      <td>NaN</td>\n",
       "      <td>NaN</td>\n",
       "      <td>3024513774</td>\n",
       "      <td>NaN</td>\n",
       "      <td>&lt;a href=\"http://twitter.com/download/iphone\" r...</td>\n",
       "      <td>http://pbs.twimg.com/profile_images/1206032443...</td>\n",
       "      <td>732.0</td>\n",
       "      <td>1650.0</td>\n",
       "      <td>Melbourne, Victoria</td>\n",
       "      <td>http://twitter.com/aileenwalsh16/statuses/1235...</td>\n",
       "      <td>{\"hashtags\":[{\"text\":\"ClimateChange\",\"indices\"...</td>\n",
       "      <td>[RT, @, terraconcern, :, professor, steffen, g...</td>\n",
       "    </tr>\n",
       "    <tr>\n",
       "      <td>3</td>\n",
       "      <td>1235716581264633856</td>\n",
       "      <td>RAAPTI</td>\n",
       "      <td>RT @zartajgulwazir: وزیر اعظم موسمیاتی تبدیلی ...</td>\n",
       "      <td>Thu Mar 05 23:59:26 +0000 2020</td>\n",
       "      <td>05/03/2020 23:59:26</td>\n",
       "      <td>NaN</td>\n",
       "      <td>NaN</td>\n",
       "      <td>NaN</td>\n",
       "      <td>NaN</td>\n",
       "      <td>802303884995731456</td>\n",
       "      <td>NaN</td>\n",
       "      <td>&lt;a href=\"http://twitter.com/download/android\" ...</td>\n",
       "      <td>http://pbs.twimg.com/profile_images/1237871731...</td>\n",
       "      <td>753.0</td>\n",
       "      <td>1264.0</td>\n",
       "      <td>Lahore, Pakistan</td>\n",
       "      <td>http://twitter.com/RAAPTI/statuses/12357165812...</td>\n",
       "      <td>{\"hashtags\":[],\"symbols\":[],\"user_mentions\":[{...</td>\n",
       "      <td>[RT, @, zartajgulwazir, :, وزیر, اعظم, موسمیات...</td>\n",
       "    </tr>\n",
       "    <tr>\n",
       "      <td>4</td>\n",
       "      <td>1235716553070366721</td>\n",
       "      <td>prollyhalal</td>\n",
       "      <td>RT @majidahhashim: Thousands of #RedJellyfish ...</td>\n",
       "      <td>Thu Mar 05 23:59:19 +0000 2020</td>\n",
       "      <td>05/03/2020 23:59:19</td>\n",
       "      <td>NaN</td>\n",
       "      <td>NaN</td>\n",
       "      <td>NaN</td>\n",
       "      <td>NaN</td>\n",
       "      <td>522793362</td>\n",
       "      <td>NaN</td>\n",
       "      <td>&lt;a href=\"http://twitter.com/download/iphone\" r...</td>\n",
       "      <td>http://pbs.twimg.com/profile_images/1140563800...</td>\n",
       "      <td>539.0</td>\n",
       "      <td>680.0</td>\n",
       "      <td>NaN</td>\n",
       "      <td>http://twitter.com/prollyhalal/statuses/123571...</td>\n",
       "      <td>{\"hashtags\":[{\"text\":\"RedJellyfish\",\"indices\":...</td>\n",
       "      <td>[RT, @, majidahhashim, :, thousand, #, redjell...</td>\n",
       "    </tr>\n",
       "  </tbody>\n",
       "</table>\n",
       "</div>"
      ],
      "text/plain": [
       "                id_str        from_user  \\\n",
       "0  1235716715415105536     Australia_21   \n",
       "1  1235716674420006912  Shirley08391760   \n",
       "2  1235716603825672192    aileenwalsh16   \n",
       "3  1235716581264633856           RAAPTI   \n",
       "4  1235716553070366721      prollyhalal   \n",
       "\n",
       "                                                text  \\\n",
       "0  Have you thought about how we’ll meet the 21st...   \n",
       "1  RT @The_taX_Files: Not only did #ScottyFomMark...   \n",
       "2  RT @terraconcern: Professor Will Steffen gave ...   \n",
       "3  RT @zartajgulwazir: وزیر اعظم موسمیاتی تبدیلی ...   \n",
       "4  RT @majidahhashim: Thousands of #RedJellyfish ...   \n",
       "\n",
       "                       created_at                 time geo_coordinates  \\\n",
       "0  Thu Mar 05 23:59:58 +0000 2020  05/03/2020 23:59:58             NaN   \n",
       "1  Thu Mar 05 23:59:48 +0000 2020  05/03/2020 23:59:48             NaN   \n",
       "2  Thu Mar 05 23:59:31 +0000 2020  05/03/2020 23:59:31             NaN   \n",
       "3  Thu Mar 05 23:59:26 +0000 2020  05/03/2020 23:59:26             NaN   \n",
       "4  Thu Mar 05 23:59:19 +0000 2020  05/03/2020 23:59:19             NaN   \n",
       "\n",
       "   user_lang  in_reply_to_user_id_str in_reply_to_screen_name  \\\n",
       "0        NaN                      NaN                     NaN   \n",
       "1        NaN                      NaN                     NaN   \n",
       "2        NaN                      NaN                     NaN   \n",
       "3        NaN                      NaN                     NaN   \n",
       "4        NaN                      NaN                     NaN   \n",
       "\n",
       "      from_user_id_str  in_reply_to_status_id_str  \\\n",
       "0            186716353                        NaN   \n",
       "1  1122054681180565505                        NaN   \n",
       "2           3024513774                        NaN   \n",
       "3   802303884995731456                        NaN   \n",
       "4            522793362                        NaN   \n",
       "\n",
       "                                              source  \\\n",
       "0  <a href=\"https://buffer.com\" rel=\"nofollow\">Bu...   \n",
       "1  <a href=\"https://mobile.twitter.com\" rel=\"nofo...   \n",
       "2  <a href=\"http://twitter.com/download/iphone\" r...   \n",
       "3  <a href=\"http://twitter.com/download/android\" ...   \n",
       "4  <a href=\"http://twitter.com/download/iphone\" r...   \n",
       "\n",
       "                                   profile_image_url  user_followers_count  \\\n",
       "0  http://pbs.twimg.com/profile_images/7631995434...                2612.0   \n",
       "1  http://pbs.twimg.com/profile_images/1134742705...                 261.0   \n",
       "2  http://pbs.twimg.com/profile_images/1206032443...                 732.0   \n",
       "3  http://pbs.twimg.com/profile_images/1237871731...                 753.0   \n",
       "4  http://pbs.twimg.com/profile_images/1140563800...                 539.0   \n",
       "\n",
       "   user_friends_count               user_location  \\\n",
       "0              1959.0                    Canberra   \n",
       "1               256.0  Jindabyne, New South Wales   \n",
       "2              1650.0         Melbourne, Victoria   \n",
       "3              1264.0            Lahore, Pakistan   \n",
       "4               680.0                         NaN   \n",
       "\n",
       "                                          status_url  \\\n",
       "0  http://twitter.com/Australia_21/statuses/12357...   \n",
       "1  http://twitter.com/Shirley08391760/statuses/12...   \n",
       "2  http://twitter.com/aileenwalsh16/statuses/1235...   \n",
       "3  http://twitter.com/RAAPTI/statuses/12357165812...   \n",
       "4  http://twitter.com/prollyhalal/statuses/123571...   \n",
       "\n",
       "                                        entities_str  \\\n",
       "0  {\"hashtags\":[{\"text\":\"ClimateChange\",\"indices\"...   \n",
       "1  {\"hashtags\":[{\"text\":\"ScottyFomMarketing\",\"ind...   \n",
       "2  {\"hashtags\":[{\"text\":\"ClimateChange\",\"indices\"...   \n",
       "3  {\"hashtags\":[],\"symbols\":[],\"user_mentions\":[{...   \n",
       "4  {\"hashtags\":[{\"text\":\"RedJellyfish\",\"indices\":...   \n",
       "\n",
       "                                         filter_text  \n",
       "0  [thought, ’, meet, 21st, centuri, challeng, cl...  \n",
       "1  [RT, @, the_tax_fil, :, onli, #, scottyfommark...  \n",
       "2  [RT, @, terraconcern, :, professor, steffen, g...  \n",
       "3  [RT, @, zartajgulwazir, :, وزیر, اعظم, موسمیات...  \n",
       "4  [RT, @, majidahhashim, :, thousand, #, redjell...  "
      ]
     },
     "execution_count": 82,
     "metadata": {},
     "output_type": "execute_result"
    }
   ],
   "source": [
    "fire[\"filter_text\"] = fire[\"text\"].apply(filter_text)\n",
    "fire.head()"
   ]
  },
  {
   "cell_type": "code",
   "execution_count": 83,
   "metadata": {},
   "outputs": [
    {
     "data": {
      "text/html": [
       "<div>\n",
       "<style scoped>\n",
       "    .dataframe tbody tr th:only-of-type {\n",
       "        vertical-align: middle;\n",
       "    }\n",
       "\n",
       "    .dataframe tbody tr th {\n",
       "        vertical-align: top;\n",
       "    }\n",
       "\n",
       "    .dataframe thead th {\n",
       "        text-align: right;\n",
       "    }\n",
       "</style>\n",
       "<table border=\"1\" class=\"dataframe\">\n",
       "  <thead>\n",
       "    <tr style=\"text-align: right;\">\n",
       "      <th></th>\n",
       "      <th>id_str</th>\n",
       "      <th>from_user</th>\n",
       "      <th>text</th>\n",
       "      <th>created_at</th>\n",
       "      <th>time</th>\n",
       "      <th>geo_coordinates</th>\n",
       "      <th>user_lang</th>\n",
       "      <th>in_reply_to_user_id_str</th>\n",
       "      <th>in_reply_to_screen_name</th>\n",
       "      <th>from_user_id_str</th>\n",
       "      <th>in_reply_to_status_id_str</th>\n",
       "      <th>source</th>\n",
       "      <th>profile_image_url</th>\n",
       "      <th>user_followers_count</th>\n",
       "      <th>user_friends_count</th>\n",
       "      <th>user_location</th>\n",
       "      <th>status_url</th>\n",
       "      <th>entities_str</th>\n",
       "      <th>filter_text</th>\n",
       "    </tr>\n",
       "  </thead>\n",
       "  <tbody>\n",
       "    <tr>\n",
       "      <td>0</td>\n",
       "      <td>1235091941731098625</td>\n",
       "      <td>fabioruivo</td>\n",
       "      <td>.@CBF_Futebol @RedeGlobo @Ambev @CocaCola @ita...</td>\n",
       "      <td>Wed Mar 04 06:37:20 +0000 2020</td>\n",
       "      <td>04/03/2020 06:37:20</td>\n",
       "      <td>NaN</td>\n",
       "      <td>NaN</td>\n",
       "      <td>NaN</td>\n",
       "      <td>NaN</td>\n",
       "      <td>17015247</td>\n",
       "      <td>NaN</td>\n",
       "      <td>&lt;a href=\"http://twitter.com/download/iphone\" r...</td>\n",
       "      <td>http://pbs.twimg.com/profile_images/1164275859...</td>\n",
       "      <td>793</td>\n",
       "      <td>282</td>\n",
       "      <td>Pale Blue Dot</td>\n",
       "      <td>http://twitter.com/fabioruivo/statuses/1235091...</td>\n",
       "      <td>{\"hashtags\":[{\"text\":\"WorldCup2014\",\"indices\":...</td>\n",
       "      <td>[., @, cbf_futebol, @, redeglobo, @, ambev, @,...</td>\n",
       "    </tr>\n",
       "    <tr>\n",
       "      <td>1</td>\n",
       "      <td>1235071327775539200</td>\n",
       "      <td>jaimevargasnae</td>\n",
       "      <td>RT @confeniae1: En las profundidades de la sel...</td>\n",
       "      <td>Wed Mar 04 05:15:25 +0000 2020</td>\n",
       "      <td>04/03/2020 05:15:25</td>\n",
       "      <td>NaN</td>\n",
       "      <td>NaN</td>\n",
       "      <td>NaN</td>\n",
       "      <td>NaN</td>\n",
       "      <td>890896112642646016</td>\n",
       "      <td>NaN</td>\n",
       "      <td>&lt;a href=\"http://twitter.com/download/iphone\" r...</td>\n",
       "      <td>http://pbs.twimg.com/profile_images/9135326966...</td>\n",
       "      <td>37509</td>\n",
       "      <td>192</td>\n",
       "      <td>Morona Santiago, Ecuador</td>\n",
       "      <td>http://twitter.com/jaimevargasnae/statuses/123...</td>\n",
       "      <td>{\"hashtags\":[],\"symbols\":[],\"user_mentions\":[{...</td>\n",
       "      <td>[RT, @, confeniae1, :, En, la, profundidad, de...</td>\n",
       "    </tr>\n",
       "    <tr>\n",
       "      <td>2</td>\n",
       "      <td>1234968672856428544</td>\n",
       "      <td>WaoResistencia</td>\n",
       "      <td>RT @confeniae1: En las profundidades de la sel...</td>\n",
       "      <td>Tue Mar 03 22:27:30 +0000 2020</td>\n",
       "      <td>03/03/2020 22:27:30</td>\n",
       "      <td>NaN</td>\n",
       "      <td>NaN</td>\n",
       "      <td>NaN</td>\n",
       "      <td>NaN</td>\n",
       "      <td>1100052094365720576</td>\n",
       "      <td>NaN</td>\n",
       "      <td>&lt;a href=\"https://mobile.twitter.com\" rel=\"nofo...</td>\n",
       "      <td>http://pbs.twimg.com/profile_images/1100056401...</td>\n",
       "      <td>3237</td>\n",
       "      <td>865</td>\n",
       "      <td>NaN</td>\n",
       "      <td>http://twitter.com/WaoResistencia/statuses/123...</td>\n",
       "      <td>{\"hashtags\":[],\"symbols\":[],\"user_mentions\":[{...</td>\n",
       "      <td>[RT, @, confeniae1, :, En, la, profundidad, de...</td>\n",
       "    </tr>\n",
       "    <tr>\n",
       "      <td>3</td>\n",
       "      <td>1234963918734417928</td>\n",
       "      <td>confeniae1</td>\n",
       "      <td>En las profundidades de la selva amazónica hab...</td>\n",
       "      <td>Tue Mar 03 22:08:37 +0000 2020</td>\n",
       "      <td>03/03/2020 22:08:37</td>\n",
       "      <td>NaN</td>\n",
       "      <td>NaN</td>\n",
       "      <td>1.321463e+09</td>\n",
       "      <td>confeniae1</td>\n",
       "      <td>1321462820</td>\n",
       "      <td>1.234964e+18</td>\n",
       "      <td>&lt;a href=\"http://twitter.com/download/iphone\" r...</td>\n",
       "      <td>http://pbs.twimg.com/profile_images/9964613968...</td>\n",
       "      <td>33941</td>\n",
       "      <td>991</td>\n",
       "      <td>Amazonía Ecuatoriana</td>\n",
       "      <td>http://twitter.com/confeniae1/statuses/1234963...</td>\n",
       "      <td>{\"hashtags\":[{\"text\":\"AmazoníaSagrada\",\"indice...</td>\n",
       "      <td>[En, la, profundidad, de, la, selva, amazónica...</td>\n",
       "    </tr>\n",
       "    <tr>\n",
       "      <td>4</td>\n",
       "      <td>1234963918734417928</td>\n",
       "      <td>confeniae1</td>\n",
       "      <td>En las profundidades de la selva amazónica hab...</td>\n",
       "      <td>Tue Mar 03 22:08:37 +0000 2020</td>\n",
       "      <td>03/03/2020 22:08:37</td>\n",
       "      <td>NaN</td>\n",
       "      <td>NaN</td>\n",
       "      <td>1.321463e+09</td>\n",
       "      <td>confeniae1</td>\n",
       "      <td>1321462820</td>\n",
       "      <td>1.234964e+18</td>\n",
       "      <td>&lt;a href=\"http://twitter.com/download/iphone\" r...</td>\n",
       "      <td>http://pbs.twimg.com/profile_images/9964613968...</td>\n",
       "      <td>33941</td>\n",
       "      <td>991</td>\n",
       "      <td>Amazonía Ecuatoriana</td>\n",
       "      <td>http://twitter.com/confeniae1/statuses/1234963...</td>\n",
       "      <td>{\"hashtags\":[{\"text\":\"AmazoníaSagrada\",\"indice...</td>\n",
       "      <td>[En, la, profundidad, de, la, selva, amazónica...</td>\n",
       "    </tr>\n",
       "  </tbody>\n",
       "</table>\n",
       "</div>"
      ],
      "text/plain": [
       "                id_str       from_user  \\\n",
       "0  1235091941731098625      fabioruivo   \n",
       "1  1235071327775539200  jaimevargasnae   \n",
       "2  1234968672856428544  WaoResistencia   \n",
       "3  1234963918734417928      confeniae1   \n",
       "4  1234963918734417928      confeniae1   \n",
       "\n",
       "                                                text  \\\n",
       "0  .@CBF_Futebol @RedeGlobo @Ambev @CocaCola @ita...   \n",
       "1  RT @confeniae1: En las profundidades de la sel...   \n",
       "2  RT @confeniae1: En las profundidades de la sel...   \n",
       "3  En las profundidades de la selva amazónica hab...   \n",
       "4  En las profundidades de la selva amazónica hab...   \n",
       "\n",
       "                       created_at                 time  geo_coordinates  \\\n",
       "0  Wed Mar 04 06:37:20 +0000 2020  04/03/2020 06:37:20              NaN   \n",
       "1  Wed Mar 04 05:15:25 +0000 2020  04/03/2020 05:15:25              NaN   \n",
       "2  Tue Mar 03 22:27:30 +0000 2020  03/03/2020 22:27:30              NaN   \n",
       "3  Tue Mar 03 22:08:37 +0000 2020  03/03/2020 22:08:37              NaN   \n",
       "4  Tue Mar 03 22:08:37 +0000 2020  03/03/2020 22:08:37              NaN   \n",
       "\n",
       "   user_lang  in_reply_to_user_id_str in_reply_to_screen_name  \\\n",
       "0        NaN                      NaN                     NaN   \n",
       "1        NaN                      NaN                     NaN   \n",
       "2        NaN                      NaN                     NaN   \n",
       "3        NaN             1.321463e+09              confeniae1   \n",
       "4        NaN             1.321463e+09              confeniae1   \n",
       "\n",
       "      from_user_id_str  in_reply_to_status_id_str  \\\n",
       "0             17015247                        NaN   \n",
       "1   890896112642646016                        NaN   \n",
       "2  1100052094365720576                        NaN   \n",
       "3           1321462820               1.234964e+18   \n",
       "4           1321462820               1.234964e+18   \n",
       "\n",
       "                                              source  \\\n",
       "0  <a href=\"http://twitter.com/download/iphone\" r...   \n",
       "1  <a href=\"http://twitter.com/download/iphone\" r...   \n",
       "2  <a href=\"https://mobile.twitter.com\" rel=\"nofo...   \n",
       "3  <a href=\"http://twitter.com/download/iphone\" r...   \n",
       "4  <a href=\"http://twitter.com/download/iphone\" r...   \n",
       "\n",
       "                                   profile_image_url  user_followers_count  \\\n",
       "0  http://pbs.twimg.com/profile_images/1164275859...                   793   \n",
       "1  http://pbs.twimg.com/profile_images/9135326966...                 37509   \n",
       "2  http://pbs.twimg.com/profile_images/1100056401...                  3237   \n",
       "3  http://pbs.twimg.com/profile_images/9964613968...                 33941   \n",
       "4  http://pbs.twimg.com/profile_images/9964613968...                 33941   \n",
       "\n",
       "   user_friends_count             user_location  \\\n",
       "0                 282             Pale Blue Dot   \n",
       "1                 192  Morona Santiago, Ecuador   \n",
       "2                 865                       NaN   \n",
       "3                 991      Amazonía Ecuatoriana   \n",
       "4                 991      Amazonía Ecuatoriana   \n",
       "\n",
       "                                          status_url  \\\n",
       "0  http://twitter.com/fabioruivo/statuses/1235091...   \n",
       "1  http://twitter.com/jaimevargasnae/statuses/123...   \n",
       "2  http://twitter.com/WaoResistencia/statuses/123...   \n",
       "3  http://twitter.com/confeniae1/statuses/1234963...   \n",
       "4  http://twitter.com/confeniae1/statuses/1234963...   \n",
       "\n",
       "                                        entities_str  \\\n",
       "0  {\"hashtags\":[{\"text\":\"WorldCup2014\",\"indices\":...   \n",
       "1  {\"hashtags\":[],\"symbols\":[],\"user_mentions\":[{...   \n",
       "2  {\"hashtags\":[],\"symbols\":[],\"user_mentions\":[{...   \n",
       "3  {\"hashtags\":[{\"text\":\"AmazoníaSagrada\",\"indice...   \n",
       "4  {\"hashtags\":[{\"text\":\"AmazoníaSagrada\",\"indice...   \n",
       "\n",
       "                                         filter_text  \n",
       "0  [., @, cbf_futebol, @, redeglobo, @, ambev, @,...  \n",
       "1  [RT, @, confeniae1, :, En, la, profundidad, de...  \n",
       "2  [RT, @, confeniae1, :, En, la, profundidad, de...  \n",
       "3  [En, la, profundidad, de, la, selva, amazónica...  \n",
       "4  [En, la, profundidad, de, la, selva, amazónica...  "
      ]
     },
     "execution_count": 83,
     "metadata": {},
     "output_type": "execute_result"
    }
   ],
   "source": [
    "amz[\"filter_text\"] = amz[\"text\"].apply(filter_text)\n",
    "amz.head()"
   ]
  },
  {
   "cell_type": "markdown",
   "metadata": {},
   "source": [
    "## Counting again. "
   ]
  },
  {
   "cell_type": "code",
   "execution_count": 88,
   "metadata": {},
   "outputs": [
    {
     "name": "stdout",
     "output_type": "stream",
     "text": [
      "{'donat': 22, 'donor': 0, 'chariti': 4, 'fundrais': 2}\n"
     ]
    }
   ],
   "source": [
    "key_dictionary = dict()\n",
    "requrired_dataset = pd.DataFrame()\n",
    "for i in stemed_keywords:\n",
    "    cmt_filtered = cmt[cmt.filter_text.apply(lambda x: i in x)]\n",
    "    fire_filtered = fire[fire.filter_text.apply(lambda x: i in x)]\n",
    "    amz_filtered = amz[amz.filter_text.apply(lambda x: i in x)]\n",
    "    requrired_dataset = pd.concat([requrired_dataset, cmt_filtered, fire_filtered, amz_filtered], axis=\"rows\")\n",
    "    key_dictionary[i] = key_dictionary.get(i, 0) + cmt_filtered.shape[0] + fire_filtered.shape[0] + amz_filtered.shape[0]  \n",
    "print(key_dictionary)"
   ]
  },
  {
   "cell_type": "code",
   "execution_count": 89,
   "metadata": {},
   "outputs": [
    {
     "data": {
      "image/png": "[encoded data removed]",
      "text/plain": [
       "<Figure size 576x576 with 1 Axes>"
      ]
     },
     "metadata": {
      "needs_background": "light"
     },
     "output_type": "display_data"
    }
   ],
   "source": [
    "Y = []\n",
    "for  i in range(len(keywords)):\n",
    "    Y.append(key_dictionary[stemed_keywords[i]])\n",
    "plt.figure(figsize=(8, 8))\n",
    "plt.bar(keywords, Y)\n",
    "plt.title(\"Keywords count in Corpora. After Stemming and Filtering\")\n",
    "plt.ylabel(\"Count\")\n",
    "plt.xlabel(\"Key Words\")\n",
    "plt.show()"
   ]
  },
  {
   "cell_type": "markdown",
   "metadata": {},
   "source": [
    "### Checking the Required Dataset\n",
    "\n",
    "Reseting Index because after concatination it will be index of those rows which are appended. So we need to reset it to have unique numbering from index 0"
   ]
  },
  {
   "cell_type": "code",
   "execution_count": 94,
   "metadata": {},
   "outputs": [],
   "source": [
    "requrired_dataset.reset_index(inplace=True)"
   ]
  },
  {
   "cell_type": "code",
   "execution_count": 97,
   "metadata": {},
   "outputs": [
    {
     "data": {
      "text/plain": [
       "(28, 20)"
      ]
     },
     "execution_count": 97,
     "metadata": {},
     "output_type": "execute_result"
    }
   ],
   "source": [
    "requrired_dataset.shape"
   ]
  },
  {
   "cell_type": "markdown",
   "metadata": {},
   "source": [
    "#### Evaluvating the output. \n",
    "\n",
    "Here is an example of output _(Indexed at 1. Index Starts from 0. Ends at the 28)_"
   ]
  },
  {
   "cell_type": "code",
   "execution_count": 98,
   "metadata": {
    "scrolled": true
   },
   "outputs": [
    {
     "data": {
      "text/plain": [
       "'RT @PeteDominick: Sen. Jim Inhofe brought a snowball to the senate floor to disprove #ClimateChange. He loves fossil fuels because he is one. Donate and support his opponent @abbybroyles https://t.co/zzBfcXDWMg'"
      ]
     },
     "execution_count": 98,
     "metadata": {},
     "output_type": "execute_result"
    }
   ],
   "source": [
    "requrired_dataset.text[1]"
   ]
  },
  {
   "cell_type": "code",
   "execution_count": null,
   "metadata": {},
   "outputs": [],
   "source": []
  }
 ],
 "metadata": {
  "kernelspec": {
   "display_name": "Python 3",
   "language": "python",
   "name": "python3"
  },
  "language_info": {
   "codemirror_mode": {
    "name": "ipython",
    "version": 3
   },
   "file_extension": ".py",
   "mimetype": "text/x-python",
   "name": "python",
   "nbconvert_exporter": "python",
   "pygments_lexer": "ipython3",
   "version": "3.7.3"
  }
 },
 "nbformat": 4,
 "nbformat_minor": 2
}
